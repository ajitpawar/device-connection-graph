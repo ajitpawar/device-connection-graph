{
 "metadata": {
  "name": "",
  "signature": "sha256:1b2ddab037d9ff8951170f4dee02ab275218c5b026a9d0912bb79b26e8c892ec"
 },
 "nbformat": 3,
 "nbformat_minor": 0,
 "worksheets": [
  {
   "cells": [
    {
     "cell_type": "code",
     "collapsed": false,
     "input": [
      "%matplotlib inline"
     ],
     "language": "python",
     "metadata": {},
     "outputs": [],
     "prompt_number": 2
    },
    {
     "cell_type": "code",
     "collapsed": false,
     "input": [
      "from IPython.display import display\n",
      "\n",
      "import pandas as pd\n",
      "import pint  # Unit conversion from inches to mm\n",
      "import numpy as np\n",
      "import matplotlib.pyplot as plt\n",
      "from matplotlib.patches import Polygon\n",
      "from svg_model.svgload import svg_parser\n",
      "from svg_model.data_frame import (get_svg_frame, close_paths, get_nearest_neighbours,\n",
      "                                  get_path_areas, get_bounding_boxes, get_path_infos,\n",
      "                                  get_bounding_box)\n",
      "\n",
      "\n",
      "def scale_paths(df, axis, factor):\n",
      "    df_scaled = df.copy()\n",
      "    df_scaled[axis] = (df_scaled[axis + '_center'] +\n",
      "                       df_scaled[axis + '_center_offset'] * factor)\n",
      "    return df_scaled\n",
      "\n",
      "\n",
      "def extend_paths(df, axis, distance):\n",
      "    df_scaled = df.copy()\n",
      "    offsets = df_scaled[axis + '_center_offset'].copy()\n",
      "    offsets[offsets < 0] -= distance\n",
      "    offsets[offsets >= 0] += distance\n",
      "    df_scaled[axis] = df_scaled[axis + '_center'] + offsets\n",
      "    return df_scaled\n",
      "\n",
      "\n",
      "# Convert Inkscape pixels-per-inch (PPI) to pixels-per-mm (PPmm).\n",
      "ureg = pint.UnitRegistry()\n",
      "\n",
      "INKSCAPE_PPI = 90\n",
      "INKSCAPE_PPmm = INKSCAPE_PPI / ureg.inch.to('mm')"
     ],
     "language": "python",
     "metadata": {},
     "outputs": [],
     "prompt_number": 185
    },
    {
     "cell_type": "markdown",
     "metadata": {},
     "source": [
      "-----------------------------------------------"
     ]
    },
    {
     "cell_type": "heading",
     "level": 2,
     "metadata": {},
     "source": [
      "Work in progress - scale each path in an attempt to find \"adjacent\" paths"
     ]
    },
    {
     "cell_type": "code",
     "collapsed": false,
     "input": [
      "svg_filepath = 'test_device_1.svg'\n",
      "\n",
      "# Read device layout from SVG file.\n",
      "df_device = get_svg_frame(svg_filepath)\n",
      "\n",
      "# Offset device, such that all coordinates are >= 0.\n",
      "df_device[['x', 'y']] -= df_device[['x', 'y']].min()\n",
      "\n",
      "# Scale path coordinates based on Inkscape default of 90 pixels-per-inch.\n",
      "df_device[['x', 'y']] /= INKSCAPE_PPmm.magnitude\n",
      "\n",
      "# path_centers = df_device.groupby('path_id')[['x', 'y']].transform('mean')\n",
      "df_paths = get_path_infos(df_device)\n",
      "path_centers = df_paths[['x', 'y']] + .5 * df_paths[['width', 'height']].values\n",
      "\n",
      "df_device['x_center'] = path_centers.x[df_device.path_id].values\n",
      "df_device['y_center'] = path_centers.y[df_device.path_id].values\n",
      "\n",
      "center_offset = df_device[['x', 'y']] - df_device[['x_center', 'y_center']].values\n",
      "df_device = df_device.join(center_offset, rsuffix='_center_offset')"
     ],
     "language": "python",
     "metadata": {},
     "outputs": [],
     "prompt_number": 199
    },
    {
     "cell_type": "code",
     "collapsed": false,
     "input": [
      "# Create blank axis to draw on.\n",
      "fig, axis = plt.subplots(figsize=(10, 10))\n",
      "axis.set_aspect(True)\n",
      "\n",
      "# Get reference to cycling color generator.\n",
      "colors = axis._get_lines.color_cycle\n",
      "\n",
      "# Assign a color to each path identifier.\n",
      "path_ids = df_device.path_id.unique()\n",
      "path_colors = pd.Series([colors.next() for i in xrange(path_ids.shape[0])],\n",
      "                        index=path_ids)\n",
      "\n",
      "# Draw electrode paths.\n",
      "for path_id, path_i in close_paths(df_device).groupby('path_id'):\n",
      "    color = path_colors[path_id]\n",
      "    poly = Polygon(path_i[['x', 'y']].values, edgecolor=color, closed=True,\n",
      "                   linewidth=2, facecolor='none')\n",
      "    axis.add_patch(poly)\n",
      "    \n",
      "# Draw center of each electrode paths.\n",
      "path_centers = df_device[['x_center', 'y_center']].drop_duplicates()\n",
      "axis.scatter(path_centers.x_center, path_centers.y_center)\n",
      "\n",
      "# Set limits of axis view to device boundaries.\n",
      "axis.set_xlim(df_device.x.min(), df_device.x.max())\n",
      "axis.set_ylim(df_device.y.min(), df_device.y.max())\n",
      "    \n",
      "# Draw electrode paths, stretched in the x-dimension away from path centers.\n",
      "# df_scaled = scale_paths(df_device, 'x', 1.25)  # Scale x rel to path size\n",
      "# df_scaled = scale_paths(df_device, 'y', 1.25)  # Scale y rel to path size\n",
      "# df_scaled = extend_paths(df_device, 'x', .5)  # Extend x coords by abs units\n",
      "df_scaled = extend_paths(df_device, 'y', .5)  # Extend y coords by abs units\n",
      "\n",
      "for path_id, path_i in close_paths(df_scaled).groupby('path_id'):\n",
      "    color = path_colors[path_id]\n",
      "    poly = Polygon(path_i[['x', 'y']].values, edgecolor=color, closed=True,\n",
      "                   linewidth=2, facecolor='none', linestyle='dashed')\n",
      "    axis.add_patch(poly)\n",
      "\n",
      "axis.set_xlabel('mm')\n",
      "axis.set_ylabel('mm')"
     ],
     "language": "python",
     "metadata": {},
     "outputs": [
      {
       "metadata": {},
       "output_type": "pyout",
       "prompt_number": 206,
       "text": [
        "<matplotlib.text.Text at 0x7f361eabfbd0>"
       ]
      },
      {
       "metadata": {},
       "output_type": "display_data",
       "png": "[encoded data removed]",
       "text": [
        "<matplotlib.figure.Figure at 0x7f361eb1b650>"
       ]
      }
     ],
     "prompt_number": 206
    },
    {
     "cell_type": "code",
     "collapsed": false,
     "input": [
      "from IPython.html.widgets import interactive"
     ],
     "language": "python",
     "metadata": {},
     "outputs": [],
     "prompt_number": 203
    },
    {
     "cell_type": "code",
     "collapsed": false,
     "input": [
      "def \n",
      "# df_scaled = scale_paths(df_device, 'x', 1.25)  # Scale x rel to path size\n",
      "# df_scaled = scale_paths(df_device, 'y', 1.25)  # Scale y rel to path size\n",
      "df_scaled = extend_paths(df_device, 'x', .5)  # Extend x coords by abs units\n",
      "# df_scaled = extend_paths(df_device, 'y', .5)  # Extend y coords by abs units"
     ],
     "language": "python",
     "metadata": {},
     "outputs": []
    }
   ],
   "metadata": {}
  }
 ]
}