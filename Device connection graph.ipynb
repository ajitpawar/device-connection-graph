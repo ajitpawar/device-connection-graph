{
 "cells": [
  {
   "cell_type": "code",
   "execution_count": 1,
   "metadata": {
    "collapsed": false
   },
   "outputs": [],
   "source": [
    "%matplotlib inline"
   ]
  },
  {
   "cell_type": "code",
   "execution_count": 2,
   "metadata": {
    "collapsed": false
   },
   "outputs": [],
   "source": [
    "from IPython.display import display\n",
    "\n",
    "import pandas as pd\n",
    "import pint  # Unit conversion from inches to mm\n",
    "import numpy as np\n",
    "import matplotlib.pyplot as plt\n",
    "from matplotlib.patches import Polygon\n",
    "from svg_model.svgload import svg_parser\n",
    "from svg_model.data_frame import (get_svg_frame, close_paths, get_nearest_neighbours,\n",
    "                                  get_path_areas, get_bounding_boxes, get_path_infos,\n",
    "                                  get_bounding_box)\n",
    "\n",
    "\n",
    "\n",
    "def scale_paths(df, axis, factor):\n",
    "    df_scaled = df.copy()\n",
    "    df_scaled[axis] = (df_scaled[axis + '_center'] +\n",
    "                       df_scaled[axis + '_center_offset'] * factor)\n",
    "    return df_scaled\n",
    "\n",
    "\n",
    "def extend_paths(df, axis, distance):\n",
    "    df_scaled = df.copy()\n",
    "    offsets = df_scaled[axis + '_center_offset'].copy()\n",
    "    offsets[offsets < 0] -= distance\n",
    "    offsets[offsets >= 0] += distance\n",
    "    df_scaled[axis] = df_scaled[axis + '_center'] + offsets\n",
    "    return df_scaled\n",
    "\n",
    "\n",
    "# Convert Inkscape pixels-per-inch (PPI) to pixels-per-mm (PPmm).\n",
    "ureg = pint.UnitRegistry()\n",
    "\n",
    "INKSCAPE_PPI = 90\n",
    "INKSCAPE_PPmm = INKSCAPE_PPI / ureg.inch.to('mm')"
   ]
  },
  {
   "cell_type": "markdown",
   "metadata": {},
   "source": [
    "-----------------------------------------------"
   ]
  },
  {
   "cell_type": "markdown",
   "metadata": {},
   "source": [
    "## Work in progress - scale each path in an attempt to find \"adjacent\" paths"
   ]
  },
  {
   "cell_type": "code",
   "execution_count": 58,
   "metadata": {
    "collapsed": false
   },
   "outputs": [],
   "source": [
    "from IPython.display import display\n",
    "\n",
    "\n",
    "svg_filepath = 'test_device_1.svg'\n",
    "\n",
    "# Read device layout from SVG file.\n",
    "df_device = get_svg_frame(svg_filepath)\n",
    "\n",
    "# Offset device, such that all coordinates are >= 0.\n",
    "df_device[['x', 'y']] -= df_device[['x', 'y']].min()\n",
    "\n",
    "# Scale path coordinates based on Inkscape default of 90 pixels-per-inch.\n",
    "df_device[['x', 'y']] /= INKSCAPE_PPmm.magnitude\n",
    "\n",
    "# Get coordinates of center of each path.\n",
    "df_paths = get_path_infos(df_device)\n",
    "path_centers = df_paths[['x', 'y']] + .5 * df_paths[['width', 'height']].values\n",
    "df_device['x_center'] = path_centers.x[df_device.path_id].values\n",
    "df_device['y_center'] = path_centers.y[df_device.path_id].values\n",
    "\n",
    "# Calculate coordinate of each path vertex relative to center point of path.\n",
    "center_offset = df_device[['x', 'y']] - df_device[['x_center', 'y_center']].values\n",
    "df_device = df_device.join(center_offset, rsuffix='_center_offset')"
   ]
  },
  {
   "cell_type": "code",
   "execution_count": 59,
   "metadata": {
    "collapsed": false
   },
   "outputs": [
    {
     "data": {
      "text/plain": [
       "<matplotlib.text.Text at 0x1147f6690>"
      ]
     },
     "execution_count": 59,
     "metadata": {},
     "output_type": "execute_result"
    },
    {
     "data": {
      "image/png": "[encoded data removed]",
      "text/plain": [
       "<matplotlib.figure.Figure at 0x116b3f0d0>"
      ]
     },
     "metadata": {},
     "output_type": "display_data"
    }
   ],
   "source": [
    "# Create blank axis to draw on.\n",
    "fig, axis = plt.subplots(figsize=(10, 10))\n",
    "axis.set_aspect(True)\n",
    "\n",
    "# Get reference to cycling color generator.\n",
    "colors = axis._get_lines.color_cycle\n",
    "\n",
    "# Assign a color to each path identifier.\n",
    "path_ids = df_device.path_id.unique()\n",
    "path_colors = pd.Series([colors.next() for i in xrange(path_ids.shape[0])],\n",
    "                        index=path_ids)\n",
    "\n",
    "# Draw electrode paths.\n",
    "for path_id, path_i in close_paths(df_device).groupby('path_id'):\n",
    "    color = path_colors[path_id]\n",
    "    poly = Polygon(path_i[['x', 'y']].values, edgecolor=color, closed=True,\n",
    "                   linewidth=2, facecolor='none')\n",
    "    axis.add_patch(poly)\n",
    " \n",
    "# Set limits of axis view to device boundaries.\n",
    "axis.set_xlim(df_device.x.min(), df_device.x.max())\n",
    "axis.set_ylim(df_device.y.min(), df_device.y.max())\n",
    "\n",
    "# Draw center of each electrode paths.\n",
    "path_centers = df_device[['x_center', 'y_center']].drop_duplicates()\n",
    "axis.scatter(path_centers.x_center, path_centers.y_center)\n",
    "    \n",
    "# Draw electrode paths, stretched in the x-dimension away from path centers.\n",
    "# df_scaled = scale_paths(df_device, 'x', 1.25)  # Scale x rel to path size\n",
    "# df_scaled = scale_paths(df_device, 'y', 1.25)  # Scale y rel to path size\n",
    "\n",
    "# for path_id, path_i in close_paths(df_scaled).groupby('path_id'):\n",
    "#     color = path_colors[path_id]\n",
    "#     poly = Polygon(path_i[['x', 'y']].values, edgecolor=color, closed=True,\n",
    "#                    linewidth=2, facecolor='none', linestyle='dashed')\n",
    "#     axis.add_patch(poly)\n",
    "\n",
    "axis.set_xlabel('mm')\n",
    "axis.set_ylabel('mm')"
   ]
  },
  {
   "cell_type": "markdown",
   "metadata": {},
   "source": [
    "## Find corners of each solid path outline"
   ]
  },
  {
   "cell_type": "code",
   "execution_count": 60,
   "metadata": {
    "collapsed": false
   },
   "outputs": [],
   "source": [
    "df_scaled_x = extend_paths(df_device, 'x', .5)  # Extend x coords by abs units\n",
    "df_scaled_y = extend_paths(df_device, 'y', .5)  # Extend y coords by abs units\n",
    "\n",
    "df_corners = df_device.groupby('path_id').agg({'x': ['min', 'max'], 'y': ['min', 'max'], })\n"
   ]
  },
  {
   "cell_type": "markdown",
   "metadata": {},
   "source": [
    "## Find adjacent square for every square"
   ]
  },
  {
   "cell_type": "code",
   "execution_count": 63,
   "metadata": {
    "collapsed": false
   },
   "outputs": [],
   "source": [
    "#Connected electrodes are recorded \n",
    "df_connected\n",
    "row_list = [] \n",
    "\n",
    "for pathNumber in df_device['path_id'].drop_duplicates():\n",
    "    df_stretched = df_scaled_x[df_scaled_x.path_id.isin([pathNumber])]\n",
    "    xmin_x, xmax_x, ymin_x, ymax_x = df_stretched.x.min(), df_stretched.x.max(), df_stretched.y.min(), df_stretched.y.max()\n",
    "    df_stretched = df_scaled_y[df_scaled_y.path_id.isin([pathNumber])]\n",
    "    xmin_y, xmax_y, ymin_y, ymax_y = df_stretched.x.min(), df_stretched.x.max(), df_stretched.y.min(), df_stretched.y.max()\n",
    "\n",
    "    #Some conditions unnecessary if it is assumed that electrodes don't overlap\n",
    "    adjacent = df_corners[\n",
    "                ((df_corners.x['min'] < xmax_x) & (df_corners.x['max'] >= xmax_x)\n",
    "                |(df_corners.x['min'] < xmin_x) & (df_corners.x['max'] >= xmin_x)) # checks in x stretched direction\n",
    "               & (df_corners.y['min'] < ymax_x) & (df_corners.y['max'] > ymin_x)# check if y is within bounds\n",
    "        \n",
    "        #mabye do ymax_x - df_corners.y['min'] > threshold & df_corners.y['max'] - ymin_x > threshold\n",
    "\n",
    "                |((df_corners.y['min'] < ymax_y) & (df_corners.y['max'] >= ymax_y)\n",
    "                 |(df_corners.y['min'] < ymin_y) & (df_corners.y['max'] >= ymin_y)) # checks in y stretched direction\n",
    "               & ((df_corners.x['min'] < xmax_y) & (df_corners.x['max'] > xmin_y)) # check if x in within bounds\n",
    "\n",
    "              ].index.values\n",
    "    \n",
    "    for path in adjacent:\n",
    "        temp_dict = {}\n",
    "        reverse_dict = {}\n",
    "        \n",
    "        temp_dict ['source'] = pathNumber\n",
    "        reverse_dict['source'] = path\n",
    "        temp_dict ['destination'] = path\n",
    "        reverse_dict['destination'] = pathNumber\n",
    "        \n",
    "        if(reverse_dict not in row_list):\n",
    "            row_list.append(temp_dict)\n",
    "        \n",
    "df_connected = pd.DataFrame(row_list)"
   ]
  },
  {
   "cell_type": "markdown",
   "metadata": {},
   "source": [
    "#Drawing the Connections"
   ]
  },
  {
   "cell_type": "code",
   "execution_count": 64,
   "metadata": {
    "collapsed": false,
    "scrolled": true
   },
   "outputs": [
    {
     "data": {
      "image/png": "[encoded data removed]",
      "text/plain": [
       "<matplotlib.figure.Figure at 0x118241750>"
      ]
     },
     "metadata": {},
     "output_type": "display_data"
    }
   ],
   "source": [
    "\n",
    "# Create blank axis to draw on.\n",
    "fig, axis = plt.subplots(figsize=(10, 10))\n",
    "axis.set_aspect(True)\n",
    "\n",
    "# Get reference to cycling color generator.\n",
    "colors = axis._get_lines.color_cycle\n",
    "\n",
    "# Assign a color to each path identifier.\n",
    "path_ids = df_device.path_id.unique()\n",
    "path_colors = pd.Series([colors.next() for i in xrange(path_ids.shape[0])],\n",
    "                        index=path_ids)\n",
    "\n",
    "# Draw electrode paths\n",
    "for path_id, path_i in close_paths(df_device).groupby('path_id'):\n",
    "    color = path_colors[path_id]\n",
    "    poly = Polygon(path_i[['x', 'y']].values, edgecolor=color, closed=True,\n",
    "                   linewidth=2, facecolor='none')\n",
    "    axis.add_patch(poly)\n",
    "    \n",
    "    \n",
    "    \n",
    "axis.set_xlim(df_device.x.min(), df_device.x.max())\n",
    "axis.set_ylim(df_device.y.min(), df_device.y.max())\n",
    "\n",
    "path_centers = df_device[['path_id', 'x_center', 'y_center']].drop_duplicates()\n",
    "axis.scatter(path_centers.x_center, path_centers.y_center)\n",
    "\n",
    "#Draws the connections\n",
    "for index, row in df_connected.iterrows():\n",
    "    path_current = path_centers[path_centers.path_id == row['source']]\n",
    "    path_adjacent = path_centers[path_centers.path_id == row['destination']]\n",
    "\n",
    "    path_current = path_current.append(path_adjacent)\n",
    "\n",
    "    poly = Polygon(path_current[['x_center','y_center']].values)\n",
    "    axis.add_patch(poly)\n",
    "        \n"
   ]
  },
  {
   "cell_type": "code",
   "execution_count": null,
   "metadata": {
    "collapsed": true
   },
   "outputs": [],
   "source": []
  }
 ],
 "metadata": {
  "kernelspec": {
   "display_name": "Python 2",
   "language": "python",
   "name": "python2"
  },
  "language_info": {
   "codemirror_mode": {
    "name": "ipython",
    "version": 2
   },
   "file_extension": ".py",
   "mimetype": "text/x-python",
   "name": "python",
   "nbconvert_exporter": "python",
   "pygments_lexer": "ipython2",
   "version": "2.7.10"
  }
 },
 "nbformat": 4,
 "nbformat_minor": 0
}
