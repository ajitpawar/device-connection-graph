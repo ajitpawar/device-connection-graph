{
 "cells": [
  {
   "cell_type": "code",
   "execution_count": 19,
   "metadata": {
    "collapsed": false
   },
   "outputs": [],
   "source": [
    "%matplotlib inline"
   ]
  },
  {
   "cell_type": "code",
   "execution_count": 20,
   "metadata": {
    "collapsed": false
   },
   "outputs": [],
   "source": [
    "from IPython.display import display\n",
    "\n",
    "import pandas as pd\n",
    "import pint  # Unit conversion from inches to mm\n",
    "import numpy as np\n",
    "import matplotlib.pyplot as plt\n",
    "from matplotlib.lines import Line2D as Line\n",
    "from matplotlib.patches import Polygon\n",
    "from svg_model.svgload import svg_parser\n",
    "from svg_model.data_frame import (get_svg_frame, close_paths, get_nearest_neighbours,\n",
    "                                  get_path_areas, get_bounding_boxes, get_path_infos,\n",
    "                                  get_bounding_box)\n",
    "\n",
    "\n",
    "\n",
    "def scale_paths(df, axis, factor):\n",
    "    df_scaled = df.copy()\n",
    "    df_scaled[axis] = (df_scaled[axis + '_center'] +\n",
    "                       df_scaled[axis + '_center_offset'] * factor)\n",
    "    return df_scaled\n",
    "\n",
    "\n",
    "def extend_paths(df, axis, distance):\n",
    "    df_scaled = df.copy()\n",
    "    offsets = df_scaled[axis + '_center_offset'].copy()\n",
    "    offsets[offsets < 0] -= distance\n",
    "    offsets[offsets >= 0] += distance\n",
    "    df_scaled[axis] = df_scaled[axis + '_center'] + offsets\n",
    "    return df_scaled\n",
    "\n",
    "\n",
    "# Convert Inkscape pixels-per-inch (PPI) to pixels-per-mm (PPmm).\n",
    "ureg = pint.UnitRegistry()\n",
    "\n",
    "INKSCAPE_PPI = 90\n",
    "INKSCAPE_PPmm = INKSCAPE_PPI / ureg.inch.to('mm')"
   ]
  },
  {
   "cell_type": "markdown",
   "metadata": {},
   "source": [
    "-----------------------------------------------"
   ]
  },
  {
   "cell_type": "markdown",
   "metadata": {},
   "source": [
    "## Work in progress - scale each path in an attempt to find \"adjacent\" paths"
   ]
  },
  {
   "cell_type": "code",
   "execution_count": 21,
   "metadata": {
    "collapsed": false
   },
   "outputs": [
    {
     "name": "stdout",
     "output_type": "stream",
     "text": [
      "Requirement already satisfied (use --upgrade to upgrade): networkx in d:\\programfiles2\\python27\\lib\\site-packages\n",
      "Requirement already satisfied (use --upgrade to upgrade): decorator>=3.4.0 in d:\\programfiles2\\python27\\lib\\site-packages (from networkx)\n"
     ]
    }
   ],
   "source": [
    "!pip install networkx"
   ]
  },
  {
   "cell_type": "code",
   "execution_count": 22,
   "metadata": {
    "collapsed": false
   },
   "outputs": [],
   "source": [
    "import networkx as nx\n",
    "\n",
    "\n",
    "def get_path_colors(path_colors, df_connected):\n",
    "    G = nx.Graph()\n",
    "    G.add_edges_from(df_connected[['source','destination']].values)\n",
    "    color_map = pd.Series(nx.coloring.greedy_color(G, interchange=True))\n",
    "    map_colors = path_colors[:color_map.max() + 1]\n",
    "    return pd.Series(map_colors[color_map], index=color_map.index)"
   ]
  },
  {
   "cell_type": "code",
   "execution_count": 23,
   "metadata": {
    "collapsed": false
   },
   "outputs": [],
   "source": [
    "def plot_paths(df_paths, path_colors=None, axis=None):\n",
    "    if axis is None:\n",
    "        # Create blank axis to draw on.\n",
    "        fig, axis = plt.subplots(figsize=(10, 10))\n",
    "        axis.set_aspect(True)\n",
    "\n",
    "    if path_colors is None:\n",
    "        # Get reference to cycling color generator.\n",
    "        colors = axis._get_lines.color_cycle\n",
    "\n",
    "        # Assign a color to each path identifier.\n",
    "        path_ids = df_paths.path_id.unique()\n",
    "        path_colors = pd.Series([colors.next()\n",
    "                                 for i in xrange(path_ids.shape[0])],\n",
    "                                index=path_ids)\n",
    "\n",
    "    # Draw electrode paths\n",
    "    for path_id, path_i in close_paths(df_paths).groupby('path_id'):\n",
    "        color = path_colors[path_id]\n",
    "        linewidth = 2\n",
    "        edge = Polygon(path_i[['x', 'y']].values, edgecolor=color, closed=True,\n",
    "                       linewidth=linewidth, facecolor='none')\n",
    "        face = Polygon(path_i[['x', 'y']].values, edgecolor='none', closed=True,\n",
    "                       facecolor=color, alpha=.45)\n",
    "        axis.add_patch(face)   \n",
    "\n",
    "        # Set limits of axis view to device boundaries.\n",
    "    axis.set_xlim(df_paths.x.min(), df_paths.x.max())\n",
    "    axis.set_ylim(df_paths.y.min(), df_paths.y.max())\n",
    "\n",
    "    # Draw center of each electrode paths.\n",
    "    path_centers = df_paths[['x_center', 'y_center']].drop_duplicates()\n",
    "    axis.scatter(path_centers.x_center, path_centers.y_center)\n",
    "\n",
    "    axis.set_xlabel('mm')\n",
    "    axis.set_ylabel('mm')\n",
    "    return axis"
   ]
  },
  {
   "cell_type": "code",
   "execution_count": 24,
   "metadata": {
    "collapsed": false
   },
   "outputs": [],
   "source": [
    "def get_paths_frame_with_centers(df_paths):\n",
    "    df_paths = df_paths.copy()\n",
    "    # Get coordinates of center of each path.\n",
    "    df_paths_info = get_path_infos(df_paths)\n",
    "    path_centers = df_paths_info[['x', 'y']] + .5 * df_paths_info[['width', 'height']].values\n",
    "    df_paths['x_center'] = path_centers.x[df_paths.path_id].values\n",
    "    df_paths['y_center'] = path_centers.y[df_paths.path_id].values\n",
    "\n",
    "    # Calculate coordinate of each path vertex relative to center point of path.\n",
    "    center_offset = df_paths[['x', 'y']] - df_paths[['x_center', 'y_center']].values\n",
    "    return df_paths.join(center_offset, rsuffix='_center_offset')"
   ]
  },
  {
   "cell_type": "code",
   "execution_count": 25,
   "metadata": {
    "collapsed": true
   },
   "outputs": [],
   "source": [
    "def extract_adjacent_paths(df_paths, extend=.5):\n",
    "    # Find corners of each solid path outline    \n",
    "    df_scaled_x = extend_paths(df_paths, 'x', extend)  # Extend x coords by abs units\n",
    "    df_scaled_y = extend_paths(df_paths, 'y', extend)  # Extend y coords by abs units\n",
    "\n",
    "    df_corners = df_paths.groupby('path_id').agg({'x': ['min', 'max'], 'y': ['min', 'max'], })\n",
    "    \n",
    "    # Find adjacent electrodes\n",
    "    row_list = [] \n",
    "\n",
    "    for pathNumber in df_paths['path_id'].drop_duplicates():\n",
    "        df_stretched = df_scaled_x[df_scaled_x.path_id.isin([pathNumber])]\n",
    "        xmin_x, xmax_x, ymin_x, ymax_x = (df_stretched.x.min(), df_stretched.x.max(),\n",
    "                                          df_stretched.y.min(), df_stretched.y.max())\n",
    "        df_stretched = df_scaled_y[df_scaled_y.path_id.isin([pathNumber])]\n",
    "        xmin_y, xmax_y, ymin_y, ymax_y = (df_stretched.x.min(), df_stretched.x.max(),\n",
    "                                          df_stretched.y.min(), df_stretched.y.max())\n",
    "\n",
    "        #Some conditions unnecessary if it is assumed that electrodes don't overlap\n",
    "        adjacent = df_corners[\n",
    "                    ((df_corners.x['min'] < xmax_x) & (df_corners.x['max'] >= xmax_x)\n",
    "                    |(df_corners.x['min'] < xmin_x) & (df_corners.x['max'] >= xmin_x)) # checks in x stretched direction\n",
    "                   & (df_corners.y['min'] < ymax_x) & (df_corners.y['max'] > ymin_x)# check if y is within bounds\n",
    "\n",
    "            #mabye do ymax_x - df_corners.y['min'] > threshold & df_corners.y['max'] - ymin_x > threshold\n",
    "\n",
    "                    |((df_corners.y['min'] < ymax_y) & (df_corners.y['max'] >= ymax_y)\n",
    "                     |(df_corners.y['min'] < ymin_y) & (df_corners.y['max'] >= ymin_y)) # checks in y stretched direction\n",
    "                   & ((df_corners.x['min'] < xmax_y) & (df_corners.x['max'] > xmin_y)) # check if x in within bounds\n",
    "\n",
    "                  ].index.values\n",
    "\n",
    "        for path in adjacent:\n",
    "            temp_dict = {}\n",
    "            reverse_dict = {}\n",
    "\n",
    "            temp_dict ['source'] = pathNumber\n",
    "            reverse_dict['source'] = path\n",
    "            temp_dict ['destination'] = path\n",
    "            reverse_dict['destination'] = pathNumber\n",
    "\n",
    "            if(reverse_dict not in row_list):\n",
    "                row_list.append(temp_dict)\n",
    "\n",
    "    df_connected = (pd.DataFrame(row_list)[['source', 'destination']]\n",
    "                    .sort(axis=1, ascending=False).sort(['source', 'destination']))\n",
    "    return df_connected"
   ]
  },
  {
   "cell_type": "markdown",
   "metadata": {},
   "source": [
    "## Drawing the Connections"
   ]
  },
  {
   "cell_type": "code",
   "execution_count": 26,
   "metadata": {
    "collapsed": false,
    "scrolled": false
   },
   "outputs": [],
   "source": [
    "# Draws the blueprint\n",
    "def draw_blueprint(df_paths, df_connected):    \n",
    "    \n",
    "    # Create blank axis to draw on.\n",
    "    fig, axis = plt.subplots(figsize=(18, 10))\n",
    "    axis.set_aspect(True)\n",
    "\n",
    "    # Get reference to cycling color generator.\n",
    "    colors = axis._get_lines.color_cycle\n",
    "\n",
    "    # Collect enough colors from matplotlib color cycle to color electrodes.\n",
    "    path_ids = df_paths.path_id.unique()\n",
    "    colors_array = np.array([colors.next() for i in xrange(10)])[[0, 1, 3]]\n",
    "\n",
    "    # Use `networkx` graph coloring algorithm to color electrodes.\n",
    "    # (Avoids using same color for adjacent electrodes).\n",
    "    path_colors = get_path_colors(colors_array, df_connected)\n",
    "    plot_paths(df_paths, path_colors, axis=axis)\n",
    "    path_centers = df_paths[['x_center', 'y_center']].drop_duplicates()\n",
    "\n",
    "    for index, row in df_connected.iterrows():\n",
    "        path_current = df_paths[df_paths.path_id == row['source']]\n",
    "        path_adjacent = df_paths[df_paths.path_id == row['destination']]\n",
    "\n",
    "        path_current = path_current.append(path_adjacent)\n",
    "        poly = Polygon(path_current[['x_center','y_center']].values,\n",
    "                       edgecolor=colors_array[0], facecolor='none', alpha=.4,\n",
    "                       linewidth=5)\n",
    "        axis.add_patch(poly)\n",
    "    \n",
    "    return axis, path_centers"
   ]
  },
  {
   "cell_type": "code",
   "execution_count": 29,
   "metadata": {
    "collapsed": false
   },
   "outputs": [],
   "source": [
    "def setup_device(svg_filepath):\n",
    "    # Convert Inkscape pixels-per-inch (PPI) to pixels-per-mm (PPmm).\n",
    "    ureg = pint.UnitRegistry()\n",
    "    INKSCAPE_PPI = 90\n",
    "    INKSCAPE_PPmm = INKSCAPE_PPI / ureg.inch.to('mm')\n",
    "\n",
    "    # Read device layout from SVG file.\n",
    "    df_device = get_svg_frame(svg_filepath)\n",
    "\n",
    "    # Offset device, such that all coordinates are >= 0.\n",
    "    df_device[['x', 'y']] -= df_device[['x', 'y']].min()\n",
    "\n",
    "    # Scale path coordinates based on Inkscape default of 90 pixels-per-inch.\n",
    "    df_device[['x', 'y']] /= INKSCAPE_PPmm.magnitude\n",
    "\n",
    "    return df_device\n",
    "\n",
    "\n",
    "# Builds a networkx graph from pandas dataframe\n",
    "def build_nxGraph(graph):    \n",
    "    g = nx.Graph()\n",
    "    for index, row in graph.iterrows():\n",
    "        g.add_edge(row['source'], row['destination'], cost=1)\n",
    "    return g\n",
    "\n",
    "# Returns a list of nodes on the shortest path from i to j\n",
    "def find_path(svg_filepath, i, j):    \n",
    "    df_paths, df_connected = init(svg_filepath)\n",
    "    nx_graph = build_nxGraph(df_connected)    \n",
    "    path_src = df_paths.ix[i].path_id\n",
    "    path_dest = df_paths.ix[j].path_id\n",
    "   \n",
    "    if path_src == path_dest:\n",
    "        shortest_path = [path_src, path_dest]\n",
    "    else: shortest_path = nx.dijkstra_path(nx_graph, path_src, path_dest, 'cost')\n",
    "\n",
    "    return shortest_path"
   ]
  },
  {
   "cell_type": "code",
   "execution_count": 35,
   "metadata": {
    "collapsed": true
   },
   "outputs": [],
   "source": [
    "def init(svg_filepath):\n",
    "    # setup device\n",
    "    df_device = setup_device(svg_filepath)\n",
    "\n",
    "    # build graph\n",
    "    df_paths = get_paths_frame_with_centers(df_device)\n",
    "\n",
    "    # build adjacency matrix\n",
    "    df_connected = extract_adjacent_paths(df_paths)\n",
    "    df_connected['cost'] = 1\n",
    "\n",
    "    return df_paths, df_connected"
   ]
  },
  {
   "cell_type": "code",
   "execution_count": null,
   "metadata": {
    "collapsed": true
   },
   "outputs": [],
   "source": [
    "# Draws the connections\n",
    "def draw_connections(axis, centers, graph, connection_ids, **kwargs):\n",
    "    for pair in zip(connection_ids[0::1], connection_ids[1::1]):\n",
    "        xs = [centers.ix[graph.path_id[graph.path_id == p].index[0]].x_center for p in pair]\n",
    "        ys = [centers.ix[graph.path_id[graph.path_id == p].index[0]].y_center for p in pair]\n",
    "        line = Line(xs, ys, **kwargs)\n",
    "        axis.add_line(line)"
   ]
  },
  {
   "cell_type": "code",
   "execution_count": 32,
   "metadata": {
    "collapsed": false
   },
   "outputs": [],
   "source": [
    "def euler_tour(G,L,src=None):\n",
    "    nx_subgraph = G.subgraph(L)\n",
    "    euler_graph = nx.eulerian_circuit(nx_subgraph,source=src)\n",
    "    tour = [u for u,v in euler_graph]\n",
    "    tour.append(src)\n",
    "    return tour"
   ]
  },
  {
   "cell_type": "code",
   "execution_count": 33,
   "metadata": {
    "collapsed": false
   },
   "outputs": [
    {
     "name": "stdout",
     "output_type": "stream",
     "text": [
      "Drawing the path:  ['path18077', 'path18133', 'path18277', 'path18085', 'path18083', 'path18081']\n"
     ]
    },
    {
     "data": {
      "image/png": "[encoded data removed]",
      "text/plain": [
       "<matplotlib.figure.Figure at 0x1d6f4d0>"
      ]
     },
     "metadata": {},
     "output_type": "display_data"
    }
   ],
   "source": [
    "####### Main ###########\n",
    "\n",
    "# Initiliaze\n",
    "svg_filepath = 'test_device_1.svg'\n",
    "src = 0\n",
    "dest = 12\n",
    "\n",
    "# Map svg to pandas dataframe\n",
    "df_paths, df_connected = init(svg_filepath)\n",
    "\n",
    "# Draw blueprint\n",
    "axis, centers = draw_blueprint(df_paths, df_connected)\n",
    "\n",
    "# Get a path\n",
    "connection_ids = find_path(svg_filepath, src, dest)\n",
    "print \"Drawing the path: \", connection_ids\n",
    "\n",
    "# Draw the path\n",
    "kwargs = {\"color\":'yellow', \"linewidth\":4}\n",
    "draw_connections(axis, centers, df_paths, connection_ids, **kwargs)"
   ]
  },
  {
   "cell_type": "code",
   "execution_count": 34,
   "metadata": {
    "collapsed": false
   },
   "outputs": [
    {
     "name": "stdout",
     "output_type": "stream",
     "text": [
      "Euler tour:  ['path18089', 'path18083', 'path18297', 'path18087', 'path18089']\n"
     ]
    },
    {
     "data": {
      "image/png": "[encoded data removed]",
      "text/plain": [
       "<matplotlib.figure.Figure at 0x86185f0>"
      ]
     },
     "metadata": {},
     "output_type": "display_data"
    }
   ],
   "source": [
    "##### Euler #####\n",
    "\n",
    "G = build_nxGraph(df_connected)\n",
    "L = ['path18083', 'path18297', 'path18087', 'path18089']\n",
    "src = 'path18089'\n",
    "tour = euler_tour(G,L,src)\n",
    "print \"Euler tour: \", tour\n",
    "\n",
    "axis, centers = draw_blueprint(df_paths, df_connected)\n",
    "kwargs = {\"color\":'lime', \"linewidth\":4}\n",
    "draw_connections(axis, centers, df_paths, tour, **kwargs)"
   ]
  }
 ],
 "metadata": {
  "kernelspec": {
   "display_name": "Python 2",
   "language": "python",
   "name": "python2"
  },
  "language_info": {
   "codemirror_mode": {
    "name": "ipython",
    "version": 2
   },
   "file_extension": ".py",
   "mimetype": "text/x-python",
   "name": "python",
   "nbconvert_exporter": "python",
   "pygments_lexer": "ipython2",
   "version": "2.7.8"
  }
 },
 "nbformat": 4,
 "nbformat_minor": 0
}
